{
 "metadata": {
  "language_info": {
   "codemirror_mode": {
    "name": "ipython",
    "version": 3
   },
   "file_extension": ".py",
   "mimetype": "text/x-python",
   "name": "python",
   "nbconvert_exporter": "python",
   "pygments_lexer": "ipython3",
   "version": "3.7.0-final"
  },
  "orig_nbformat": 2,
  "kernelspec": {
   "name": "python370jvsc74a57bd0fbe65c73bde71965208b318d08df5c37deaa9b7bde7788a072b026f35cf8b9f8",
   "display_name": "Python 3.7.0 64-bit"
  },
  "metadata": {
   "interpreter": {
    "hash": "fbe65c73bde71965208b318d08df5c37deaa9b7bde7788a072b026f35cf8b9f8"
   }
  }
 },
 "nbformat": 4,
 "nbformat_minor": 2,
 "cells": [
  {
   "cell_type": "code",
   "execution_count": 3,
   "metadata": {},
   "outputs": [],
   "source": [
    "import pandas as pd"
   ]
  },
  {
   "source": [
    "d1 = {'fund_name': '汇添富全球消费混合美元现汇', 'fund_code': '006310', 'comment': [{'content': '这种事，不能做！', 'author': '基少成多81', 'time_': '04-16 13:15'}]}\n",
    "\n",
    "d2 = {'fund_name': '汇添富全球消费混合人民币A', 'fund_code': '006308', 'comment': [{'content': '清仓了，没想到这个基那么恶心，长期倒数，关键糊糊涂', 'author': '股友063ST25679', 'time_': '04-16 12:17'}, {'content': '稳住，能长起来的。', 'author': '山顶很凉快123', 'time_': '04-16 11:43'}]}\n",
    "\n",
    "d3 = {'fund_name': '汇添富全球医疗混合美元现钞', 'fund_code': '004879', 'comment': [{'content': '寻找能够穿越周期的行业', 'author': '养基备忘录', 'time_': '09-24 23:45'}]}\n",
    "\n",
    "d4 = {'fund_name': '汇添富全球医疗混合美元现汇', 'fund_code': '004878', 'comment': [{'content': '在哪里可以买？', 'author': '基民Vm8s9F', 'time_': '12-30 02:12'}, {'content': '现在显示暂不销售，多久才能买？', 'author': '基民vFh7B8','time_': '11-11 15:21'}, {'content': '天天基金上显示暂不销售，但网银上又可购买，请问什么', 'author': '基民lGnwXw', 'time_': '07-15 15:31'}, {'content': '不管大家怎么劝，总是有人进来的。钱多人傻速来。', 'author': 'Jackie_zhan', 'time_': '08-17 21:10'}, {'content': '大家千万不要买刘江的基金，大家看一看001417刘江导演', 'author': '股友6Totms','time_': '07-30 22:54'}, {'content': '去看看001417就知道刘江的水平了，高手啊！', 'author': '股友6VlexV', 'time_':\n",
    "'07-26 16:44'}, {'content': '又要抗人了', 'author': '股友6VlexV', 'time_': '07-26 16:43'}]}\n",
    "\n",
    "d5 = {'fund_name': '汇添富中证港股通(LOF)C', 'fund_code': '501306', 'comment': [{'content': '盘子越小的基金越值钱！君不见160131这个基金吗？据说', 'author': '股少888', 'time_': '04-16 07:41'}]}\n",
    "\n",
    "d6 = {'fund_name': '汇添富稳添利定开债C', 'fund_code': '002488', 'comment': [{'content': '3个月过去了,还不能开放赎回??', 'author': '上海网友', 'time_': '09-15 07:42'}]}\n",
    "\n",
    "d7 = {'fund_name': '汇添富中证中药指数(LOF)C', 'fund_code': '501012', 'comment': [{'content': '昨天加仓，没看清全买成银行了。我TM心态崩了…', 'author': '暴富中吖', 'time_': '04-16 10:03'}]}\n",
    "\n",
    "d8 = {'fund_name': '汇添富AAA级信用纯债C', 'fund_code': '006885', 'comment': [{'content': '骗子', 'author': '应该昱戎', 'time_': '08-31 21:45'}, {'content': '搞不懂，为什么老是跌，老鼠仓！', 'author': '应该昱戎', 'time_': '08-28 17:53'}, {'content': '连跌几天', 'author': '股友GhuPqy', 'time_': '08-04 19:06'}, {'content': '汇添富AAA级信用纯债C和汇添富短债债券C，前几天上车', 'author': '股友gftCrC', 'time_': '07-14 17:50'}, {'content': '还有两天就能出坑了', 'author': '基民G5CFvw', 'time_': '07-14 11:59'}, {'content': '7.9买入之后就天天跌，大盘涨它也跌；大盘跌它也跌', 'author': '基民0OctpY', 'time_': '07-14 09:11'}, {'content': '别的都涨的不行，就这个一到下午就，真是无语', 'author':\n",
    "'基民0OctpY', 'time_': '07-13 15:05'}, {'content': '上当了', 'author': '基民0OctpY', 'time_': '07-13 11:40'}, {'content': '前天刚买[摊手]', 'author': '基民0OctpY', 'time_': '07-10 14:49'}, {'content': '感觉上当了', 'author': '基民8qvesR', 'time_': '07-08 13:24'}, {'content': '加油吧，老板，', 'author': '基民uOXqR2', 'time_': '06-06 14:36'}, {'content': '了隔壁', 'author': '基民glV2yd', 'time_': '06-03 21:48'}, {'content': '跌跌不休', 'author': '求回本啊', 'time_': '06-03 15:54'}, {'content': '怎么最近一直在跌？', 'author': '基民yXA61t', 'time_': '06-03 02:22'}, {'content': '还在跌', 'author': '昨日星期八', 'time_': '06-02 22:32'}, {'content': '不是吧！天天跌，有没有搞错', 'author': '又念念不忘的想你', 'time_': '05-29 17:49'}, {'content': '脸都不要了', 'author': '新开养鸡场', 'time_': '05-20 22:50'}, {'content': '连续跌了好多天', 'author': '基民1wProP', 'time_': '05-15 12:58'}, {'content': '徐杨两个废物老子看你们两弄的这只鸡还能连着亏几天最', 'author': '新开养鸡场', 'time_': '05-14 21:49'}, {'content': '天天跌真垃圾', 'author': '基民ifdzbs', 'time_': '05-14 13:07'}, {'content': '天天跌，这两个基金经理也够垃圾的了', 'author': '基民ifdzbs', 'time_': '05-13 14:39'}, {'content': '连跌五天了，垃圾', 'author': '基民ifdzbs', 'time_': '05-12 21:44'}, {'content': '这两个基金经理可以清仓滚蛋了', 'author': '新开养鸡场', 'time_': '05-12 21:43'}, {'content': '真的太垃圾了，5天把一个月的涨幅跌完了。', 'author': '基民ifdzbs', 'time_': '05-12 21:39'}, {'content': '怎么这两天持续下跌，是不是债券违约了？', 'author': '基民D5FG16', 'time_': '05-12 09:26'}, {'content': '估值涨了实际跌0.04怎么回事？', 'author': '战狼d心魂', 'time_': '04-20 22:12'}, {'content': '这么久了没人？', 'author': 'Flag1634', 'time_': '04-17 01:24'}]}"
   ],
   "cell_type": "code",
   "metadata": {},
   "execution_count": 2,
   "outputs": []
  },
  {
   "cell_type": "code",
   "execution_count": 3,
   "metadata": {},
   "outputs": [],
   "source": [
    "df = pd.DataFrame()"
   ]
  },
  {
   "cell_type": "code",
   "execution_count": 10,
   "metadata": {},
   "outputs": [],
   "source": [
    "import pandas as pd"
   ]
  },
  {
   "cell_type": "code",
   "execution_count": 13,
   "metadata": {},
   "outputs": [
    {
     "output_type": "execute_result",
     "data": {
      "text/plain": [
       "   Unnamed: 0       fund_name  fund_code                       content author  \\\n",
       "0         NaN  汇添富中证港股通(LOF)C     501306  盘子越小的基金越值钱！君不见160131这个基金吗？据说  股少888   \n",
       "1         NaN  汇添富中证港股通(LOF)C     501306  盘子越小的基金越值钱！君不见160131这个基金吗？据说  股少888   \n",
       "2         NaN  汇添富中证港股通(LOF)C     501306  盘子越小的基金越值钱！君不见160131这个基金吗？据说  股少888   \n",
       "3         NaN  汇添富中证港股通(LOF)A     501307    盘子越小的基金越值钱！君不见160131这个基金吗？     股少   \n",
       "4         NaN  汇添富中证港股通(LOF)A     501307                   盘子越小的基金越值钱！     股少   \n",
       "\n",
       "                time_  \n",
       "0 2021-04-16 07:41:00  \n",
       "1 2021-04-16 07:41:00  \n",
       "2 2021-04-16 07:41:00  \n",
       "3 2021-04-17 07:41:00  \n",
       "4 2021-04-17 07:41:00  "
      ],
      "text/html": "<div>\n<style scoped>\n    .dataframe tbody tr th:only-of-type {\n        vertical-align: middle;\n    }\n\n    .dataframe tbody tr th {\n        vertical-align: top;\n    }\n\n    .dataframe thead th {\n        text-align: right;\n    }\n</style>\n<table border=\"1\" class=\"dataframe\">\n  <thead>\n    <tr style=\"text-align: right;\">\n      <th></th>\n      <th>Unnamed: 0</th>\n      <th>fund_name</th>\n      <th>fund_code</th>\n      <th>content</th>\n      <th>author</th>\n      <th>time_</th>\n    </tr>\n  </thead>\n  <tbody>\n    <tr>\n      <th>0</th>\n      <td>NaN</td>\n      <td>汇添富中证港股通(LOF)C</td>\n      <td>501306</td>\n      <td>盘子越小的基金越值钱！君不见160131这个基金吗？据说</td>\n      <td>股少888</td>\n      <td>2021-04-16 07:41:00</td>\n    </tr>\n    <tr>\n      <th>1</th>\n      <td>NaN</td>\n      <td>汇添富中证港股通(LOF)C</td>\n      <td>501306</td>\n      <td>盘子越小的基金越值钱！君不见160131这个基金吗？据说</td>\n      <td>股少888</td>\n      <td>2021-04-16 07:41:00</td>\n    </tr>\n    <tr>\n      <th>2</th>\n      <td>NaN</td>\n      <td>汇添富中证港股通(LOF)C</td>\n      <td>501306</td>\n      <td>盘子越小的基金越值钱！君不见160131这个基金吗？据说</td>\n      <td>股少888</td>\n      <td>2021-04-16 07:41:00</td>\n    </tr>\n    <tr>\n      <th>3</th>\n      <td>NaN</td>\n      <td>汇添富中证港股通(LOF)A</td>\n      <td>501307</td>\n      <td>盘子越小的基金越值钱！君不见160131这个基金吗？</td>\n      <td>股少</td>\n      <td>2021-04-17 07:41:00</td>\n    </tr>\n    <tr>\n      <th>4</th>\n      <td>NaN</td>\n      <td>汇添富中证港股通(LOF)A</td>\n      <td>501307</td>\n      <td>盘子越小的基金越值钱！</td>\n      <td>股少</td>\n      <td>2021-04-17 07:41:00</td>\n    </tr>\n  </tbody>\n</table>\n</div>"
     },
     "metadata": {},
     "execution_count": 13
    }
   ],
   "source": [
    "df1 = pd.read_excel('htf_com.xls')\n",
    "df1"
   ]
  },
  {
   "cell_type": "code",
   "execution_count": null,
   "metadata": {},
   "outputs": [],
   "source": []
  }
 ]
}